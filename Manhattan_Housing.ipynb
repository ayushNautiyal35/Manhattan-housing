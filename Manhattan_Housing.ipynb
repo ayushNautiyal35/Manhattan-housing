{
  "nbformat": 4,
  "nbformat_minor": 0,
  "metadata": {
    "colab": {
      "provenance": [],
      "authorship_tag": "ABX9TyOr2DudcVtg569udQsX9HhE",
      "include_colab_link": true
    },
    "kernelspec": {
      "name": "python3",
      "display_name": "Python 3"
    },
    "language_info": {
      "name": "python"
    }
  },
  "cells": [
    {
      "cell_type": "markdown",
      "metadata": {
        "id": "view-in-github",
        "colab_type": "text"
      },
      "source": [
        "<a href=\"https://colab.research.google.com/github/ayushNautiyal35/Manhattan-housing/blob/main/Manhattan_Housing.ipynb\" target=\"_parent\"><img src=\"https://colab.research.google.com/assets/colab-badge.svg\" alt=\"Open In Colab\"/></a>"
      ]
    },
    {
      "cell_type": "code",
      "execution_count": 1,
      "metadata": {
        "id": "wgmPeqxwP8xJ"
      },
      "outputs": [],
      "source": [
        "import pandas as pd"
      ]
    },
    {
      "cell_type": "code",
      "source": [
        "def import_dataset():\n",
        "  url=\"https://raw.githubusercontent.com/ayushNautiyal35/Manhattan-housing/main/Manhattan12.csv\"\n",
        "  return pd.read_csv(url)\n"
      ],
      "metadata": {
        "id": "WAIv-97HQEEV"
      },
      "execution_count": 2,
      "outputs": []
    },
    {
      "cell_type": "code",
      "source": [
        "data=import_dataset()\n",
        "data"
      ],
      "metadata": {
        "colab": {
          "base_uri": "https://localhost:8080/",
          "height": 1000
        },
        "id": "mEbS4TxRRBtQ",
        "outputId": "e2fc2956-4cbe-4d68-c009-72907e75aba9"
      },
      "execution_count": 3,
      "outputs": [
        {
          "output_type": "execute_result",
          "data": {
            "text/plain": [
              "       BOROUGH               NEIGHBORHOOD  \\\n",
              "0            1                              \n",
              "1            1                              \n",
              "2            1                              \n",
              "3            1                              \n",
              "4            1                              \n",
              "...        ...                        ...   \n",
              "27390        1  WASHINGTON HEIGHTS UPPER    \n",
              "27391        1  WASHINGTON HEIGHTS UPPER    \n",
              "27392        1  WASHINGTON HEIGHTS UPPER    \n",
              "27393        1  WASHINGTON HEIGHTS UPPER    \n",
              "27394        1  WASHINGTON HEIGHTS UPPER    \n",
              "\n",
              "                            BUILDING CLASS CATEGORY TAX CLASS AT PRESENT  \\\n",
              "0      13  CONDOS - ELEVATOR APARTMENTS                                    \n",
              "1      13  CONDOS - ELEVATOR APARTMENTS                                    \n",
              "2      13  CONDOS - ELEVATOR APARTMENTS                                    \n",
              "3      13  CONDOS - ELEVATOR APARTMENTS                                    \n",
              "4      13  CONDOS - ELEVATOR APARTMENTS                                    \n",
              "...                                             ...                  ...   \n",
              "27390  31  COMMERCIAL VACANT LAND                                      4   \n",
              "27391  31  COMMERCIAL VACANT LAND                                      4   \n",
              "27392  31  COMMERCIAL VACANT LAND                                      4   \n",
              "27393  31  COMMERCIAL VACANT LAND                                      4   \n",
              "27394  31  COMMERCIAL VACANT LAND                                      4   \n",
              "\n",
              "       BLOCK   LOT EASE-MENT BUILDING CLASS AT PRESENT  \\\n",
              "0        738  1306                                       \n",
              "1        738  1307                                       \n",
              "2        738  1308                                       \n",
              "3        738  1309                                       \n",
              "4        738  1310                                       \n",
              "...      ...   ...       ...                       ...   \n",
              "27390   2170   400                                  V1   \n",
              "27391   2180    75                                  V1   \n",
              "27392   2180    75                                  V1   \n",
              "27393   2180    76                                  V1   \n",
              "27394   2180    76                                  V1   \n",
              "\n",
              "                                           ADDRESS APART\\nMENT\\nNUMBER  ...  \\\n",
              "0       345 WEST 14TH   STREET                                          ...   \n",
              "1       345 WEST 14TH   STREET                                          ...   \n",
              "2       345 WEST 14TH   STREET                                          ...   \n",
              "3       345 WEST 14TH   STREET                                          ...   \n",
              "4       345 WEST 14TH   STREET                                          ...   \n",
              "...                                            ...                 ...  ...   \n",
              "27390   44 FAIRVIEW AVENUE                                              ...   \n",
              "27391   BENNETT AVENUE                                                  ...   \n",
              "27392   BENNETT AVENUE                                                  ...   \n",
              "27393   N/A MAGAW PLACE                                                 ...   \n",
              "27394   MAGAW PLACE                                                     ...   \n",
              "\n",
              "       RESIDENTIAL UNITS COMMERCIAL UNITS  TOTAL UNITS LAND SQUARE FEET  \\\n",
              "0                      0                0            0                0   \n",
              "1                      0                0            0                0   \n",
              "2                      0                0            0                0   \n",
              "3                      0                0            0                0   \n",
              "4                      0                0            0                0   \n",
              "...                  ...              ...          ...              ...   \n",
              "27390                  0                0            0           16,217   \n",
              "27391                  0                0            0            4,150   \n",
              "27392                  0                0            0            4,150   \n",
              "27393                  0                0            0              760   \n",
              "27394                  0                0            0              760   \n",
              "\n",
              "      GROSS SQUARE FEET YEAR BUILT  TAX CLASS AT TIME OF SALE  \\\n",
              "0                     0          0                          2   \n",
              "1                     0          0                          2   \n",
              "2                     0          0                          2   \n",
              "3                     0          0                          2   \n",
              "4                     0          0                          2   \n",
              "...                 ...        ...                        ...   \n",
              "27390                 0          0                          4   \n",
              "27391                 0          0                          4   \n",
              "27392                 0          0                          4   \n",
              "27393                 0          0                          4   \n",
              "27394                 0          0                          4   \n",
              "\n",
              "       BUILDING CLASS AT TIME OF SALE SALE\\nPRICE   SALE DATE  \n",
              "0                                 R4   $2,214,693  20-05-2013  \n",
              "1                                 R4   $1,654,656  16-05-2013  \n",
              "2                                 R4   $1,069,162  23-05-2013  \n",
              "3                                 R4   $1,374,637  15-05-2013  \n",
              "4                                 R4   $1,649,565  13-05-2013  \n",
              "...                               ...         ...         ...  \n",
              "27390                             V1           $0  29-04-2013  \n",
              "27391                             V1     $495,000  26-06-2013  \n",
              "27392                             V1           $0  02-04-2013  \n",
              "27393                             V1           $0  26-06-2013  \n",
              "27394                             V1           $0  02-04-2013  \n",
              "\n",
              "[27395 rows x 21 columns]"
            ],
            "text/html": [
              "\n",
              "  <div id=\"df-9d7de1ba-c461-4784-9ebd-46500bcaed37\" class=\"colab-df-container\">\n",
              "    <div>\n",
              "<style scoped>\n",
              "    .dataframe tbody tr th:only-of-type {\n",
              "        vertical-align: middle;\n",
              "    }\n",
              "\n",
              "    .dataframe tbody tr th {\n",
              "        vertical-align: top;\n",
              "    }\n",
              "\n",
              "    .dataframe thead th {\n",
              "        text-align: right;\n",
              "    }\n",
              "</style>\n",
              "<table border=\"1\" class=\"dataframe\">\n",
              "  <thead>\n",
              "    <tr style=\"text-align: right;\">\n",
              "      <th></th>\n",
              "      <th>BOROUGH</th>\n",
              "      <th>NEIGHBORHOOD</th>\n",
              "      <th>BUILDING CLASS CATEGORY</th>\n",
              "      <th>TAX CLASS AT PRESENT</th>\n",
              "      <th>BLOCK</th>\n",
              "      <th>LOT</th>\n",
              "      <th>EASE-MENT</th>\n",
              "      <th>BUILDING CLASS AT PRESENT</th>\n",
              "      <th>ADDRESS</th>\n",
              "      <th>APART\\nMENT\\nNUMBER</th>\n",
              "      <th>...</th>\n",
              "      <th>RESIDENTIAL UNITS</th>\n",
              "      <th>COMMERCIAL UNITS</th>\n",
              "      <th>TOTAL UNITS</th>\n",
              "      <th>LAND SQUARE FEET</th>\n",
              "      <th>GROSS SQUARE FEET</th>\n",
              "      <th>YEAR BUILT</th>\n",
              "      <th>TAX CLASS AT TIME OF SALE</th>\n",
              "      <th>BUILDING CLASS AT TIME OF SALE</th>\n",
              "      <th>SALE\\nPRICE</th>\n",
              "      <th>SALE DATE</th>\n",
              "    </tr>\n",
              "  </thead>\n",
              "  <tbody>\n",
              "    <tr>\n",
              "      <th>0</th>\n",
              "      <td>1</td>\n",
              "      <td></td>\n",
              "      <td>13  CONDOS - ELEVATOR APARTMENTS</td>\n",
              "      <td></td>\n",
              "      <td>738</td>\n",
              "      <td>1306</td>\n",
              "      <td></td>\n",
              "      <td></td>\n",
              "      <td>345 WEST 14TH   STREET</td>\n",
              "      <td></td>\n",
              "      <td>...</td>\n",
              "      <td>0</td>\n",
              "      <td>0</td>\n",
              "      <td>0</td>\n",
              "      <td>0</td>\n",
              "      <td>0</td>\n",
              "      <td>0</td>\n",
              "      <td>2</td>\n",
              "      <td>R4</td>\n",
              "      <td>$2,214,693</td>\n",
              "      <td>20-05-2013</td>\n",
              "    </tr>\n",
              "    <tr>\n",
              "      <th>1</th>\n",
              "      <td>1</td>\n",
              "      <td></td>\n",
              "      <td>13  CONDOS - ELEVATOR APARTMENTS</td>\n",
              "      <td></td>\n",
              "      <td>738</td>\n",
              "      <td>1307</td>\n",
              "      <td></td>\n",
              "      <td></td>\n",
              "      <td>345 WEST 14TH   STREET</td>\n",
              "      <td></td>\n",
              "      <td>...</td>\n",
              "      <td>0</td>\n",
              "      <td>0</td>\n",
              "      <td>0</td>\n",
              "      <td>0</td>\n",
              "      <td>0</td>\n",
              "      <td>0</td>\n",
              "      <td>2</td>\n",
              "      <td>R4</td>\n",
              "      <td>$1,654,656</td>\n",
              "      <td>16-05-2013</td>\n",
              "    </tr>\n",
              "    <tr>\n",
              "      <th>2</th>\n",
              "      <td>1</td>\n",
              "      <td></td>\n",
              "      <td>13  CONDOS - ELEVATOR APARTMENTS</td>\n",
              "      <td></td>\n",
              "      <td>738</td>\n",
              "      <td>1308</td>\n",
              "      <td></td>\n",
              "      <td></td>\n",
              "      <td>345 WEST 14TH   STREET</td>\n",
              "      <td></td>\n",
              "      <td>...</td>\n",
              "      <td>0</td>\n",
              "      <td>0</td>\n",
              "      <td>0</td>\n",
              "      <td>0</td>\n",
              "      <td>0</td>\n",
              "      <td>0</td>\n",
              "      <td>2</td>\n",
              "      <td>R4</td>\n",
              "      <td>$1,069,162</td>\n",
              "      <td>23-05-2013</td>\n",
              "    </tr>\n",
              "    <tr>\n",
              "      <th>3</th>\n",
              "      <td>1</td>\n",
              "      <td></td>\n",
              "      <td>13  CONDOS - ELEVATOR APARTMENTS</td>\n",
              "      <td></td>\n",
              "      <td>738</td>\n",
              "      <td>1309</td>\n",
              "      <td></td>\n",
              "      <td></td>\n",
              "      <td>345 WEST 14TH   STREET</td>\n",
              "      <td></td>\n",
              "      <td>...</td>\n",
              "      <td>0</td>\n",
              "      <td>0</td>\n",
              "      <td>0</td>\n",
              "      <td>0</td>\n",
              "      <td>0</td>\n",
              "      <td>0</td>\n",
              "      <td>2</td>\n",
              "      <td>R4</td>\n",
              "      <td>$1,374,637</td>\n",
              "      <td>15-05-2013</td>\n",
              "    </tr>\n",
              "    <tr>\n",
              "      <th>4</th>\n",
              "      <td>1</td>\n",
              "      <td></td>\n",
              "      <td>13  CONDOS - ELEVATOR APARTMENTS</td>\n",
              "      <td></td>\n",
              "      <td>738</td>\n",
              "      <td>1310</td>\n",
              "      <td></td>\n",
              "      <td></td>\n",
              "      <td>345 WEST 14TH   STREET</td>\n",
              "      <td></td>\n",
              "      <td>...</td>\n",
              "      <td>0</td>\n",
              "      <td>0</td>\n",
              "      <td>0</td>\n",
              "      <td>0</td>\n",
              "      <td>0</td>\n",
              "      <td>0</td>\n",
              "      <td>2</td>\n",
              "      <td>R4</td>\n",
              "      <td>$1,649,565</td>\n",
              "      <td>13-05-2013</td>\n",
              "    </tr>\n",
              "    <tr>\n",
              "      <th>...</th>\n",
              "      <td>...</td>\n",
              "      <td>...</td>\n",
              "      <td>...</td>\n",
              "      <td>...</td>\n",
              "      <td>...</td>\n",
              "      <td>...</td>\n",
              "      <td>...</td>\n",
              "      <td>...</td>\n",
              "      <td>...</td>\n",
              "      <td>...</td>\n",
              "      <td>...</td>\n",
              "      <td>...</td>\n",
              "      <td>...</td>\n",
              "      <td>...</td>\n",
              "      <td>...</td>\n",
              "      <td>...</td>\n",
              "      <td>...</td>\n",
              "      <td>...</td>\n",
              "      <td>...</td>\n",
              "      <td>...</td>\n",
              "      <td>...</td>\n",
              "    </tr>\n",
              "    <tr>\n",
              "      <th>27390</th>\n",
              "      <td>1</td>\n",
              "      <td>WASHINGTON HEIGHTS UPPER</td>\n",
              "      <td>31  COMMERCIAL VACANT LAND</td>\n",
              "      <td>4</td>\n",
              "      <td>2170</td>\n",
              "      <td>400</td>\n",
              "      <td></td>\n",
              "      <td>V1</td>\n",
              "      <td>44 FAIRVIEW AVENUE</td>\n",
              "      <td></td>\n",
              "      <td>...</td>\n",
              "      <td>0</td>\n",
              "      <td>0</td>\n",
              "      <td>0</td>\n",
              "      <td>16,217</td>\n",
              "      <td>0</td>\n",
              "      <td>0</td>\n",
              "      <td>4</td>\n",
              "      <td>V1</td>\n",
              "      <td>$0</td>\n",
              "      <td>29-04-2013</td>\n",
              "    </tr>\n",
              "    <tr>\n",
              "      <th>27391</th>\n",
              "      <td>1</td>\n",
              "      <td>WASHINGTON HEIGHTS UPPER</td>\n",
              "      <td>31  COMMERCIAL VACANT LAND</td>\n",
              "      <td>4</td>\n",
              "      <td>2180</td>\n",
              "      <td>75</td>\n",
              "      <td></td>\n",
              "      <td>V1</td>\n",
              "      <td>BENNETT AVENUE</td>\n",
              "      <td></td>\n",
              "      <td>...</td>\n",
              "      <td>0</td>\n",
              "      <td>0</td>\n",
              "      <td>0</td>\n",
              "      <td>4,150</td>\n",
              "      <td>0</td>\n",
              "      <td>0</td>\n",
              "      <td>4</td>\n",
              "      <td>V1</td>\n",
              "      <td>$495,000</td>\n",
              "      <td>26-06-2013</td>\n",
              "    </tr>\n",
              "    <tr>\n",
              "      <th>27392</th>\n",
              "      <td>1</td>\n",
              "      <td>WASHINGTON HEIGHTS UPPER</td>\n",
              "      <td>31  COMMERCIAL VACANT LAND</td>\n",
              "      <td>4</td>\n",
              "      <td>2180</td>\n",
              "      <td>75</td>\n",
              "      <td></td>\n",
              "      <td>V1</td>\n",
              "      <td>BENNETT AVENUE</td>\n",
              "      <td></td>\n",
              "      <td>...</td>\n",
              "      <td>0</td>\n",
              "      <td>0</td>\n",
              "      <td>0</td>\n",
              "      <td>4,150</td>\n",
              "      <td>0</td>\n",
              "      <td>0</td>\n",
              "      <td>4</td>\n",
              "      <td>V1</td>\n",
              "      <td>$0</td>\n",
              "      <td>02-04-2013</td>\n",
              "    </tr>\n",
              "    <tr>\n",
              "      <th>27393</th>\n",
              "      <td>1</td>\n",
              "      <td>WASHINGTON HEIGHTS UPPER</td>\n",
              "      <td>31  COMMERCIAL VACANT LAND</td>\n",
              "      <td>4</td>\n",
              "      <td>2180</td>\n",
              "      <td>76</td>\n",
              "      <td></td>\n",
              "      <td>V1</td>\n",
              "      <td>N/A MAGAW PLACE</td>\n",
              "      <td></td>\n",
              "      <td>...</td>\n",
              "      <td>0</td>\n",
              "      <td>0</td>\n",
              "      <td>0</td>\n",
              "      <td>760</td>\n",
              "      <td>0</td>\n",
              "      <td>0</td>\n",
              "      <td>4</td>\n",
              "      <td>V1</td>\n",
              "      <td>$0</td>\n",
              "      <td>26-06-2013</td>\n",
              "    </tr>\n",
              "    <tr>\n",
              "      <th>27394</th>\n",
              "      <td>1</td>\n",
              "      <td>WASHINGTON HEIGHTS UPPER</td>\n",
              "      <td>31  COMMERCIAL VACANT LAND</td>\n",
              "      <td>4</td>\n",
              "      <td>2180</td>\n",
              "      <td>76</td>\n",
              "      <td></td>\n",
              "      <td>V1</td>\n",
              "      <td>MAGAW PLACE</td>\n",
              "      <td></td>\n",
              "      <td>...</td>\n",
              "      <td>0</td>\n",
              "      <td>0</td>\n",
              "      <td>0</td>\n",
              "      <td>760</td>\n",
              "      <td>0</td>\n",
              "      <td>0</td>\n",
              "      <td>4</td>\n",
              "      <td>V1</td>\n",
              "      <td>$0</td>\n",
              "      <td>02-04-2013</td>\n",
              "    </tr>\n",
              "  </tbody>\n",
              "</table>\n",
              "<p>27395 rows × 21 columns</p>\n",
              "</div>\n",
              "    <div class=\"colab-df-buttons\">\n",
              "\n",
              "  <div class=\"colab-df-container\">\n",
              "    <button class=\"colab-df-convert\" onclick=\"convertToInteractive('df-9d7de1ba-c461-4784-9ebd-46500bcaed37')\"\n",
              "            title=\"Convert this dataframe to an interactive table.\"\n",
              "            style=\"display:none;\">\n",
              "\n",
              "  <svg xmlns=\"http://www.w3.org/2000/svg\" height=\"24px\" viewBox=\"0 -960 960 960\">\n",
              "    <path d=\"M120-120v-720h720v720H120Zm60-500h600v-160H180v160Zm220 220h160v-160H400v160Zm0 220h160v-160H400v160ZM180-400h160v-160H180v160Zm440 0h160v-160H620v160ZM180-180h160v-160H180v160Zm440 0h160v-160H620v160Z\"/>\n",
              "  </svg>\n",
              "    </button>\n",
              "\n",
              "  <style>\n",
              "    .colab-df-container {\n",
              "      display:flex;\n",
              "      gap: 12px;\n",
              "    }\n",
              "\n",
              "    .colab-df-convert {\n",
              "      background-color: #E8F0FE;\n",
              "      border: none;\n",
              "      border-radius: 50%;\n",
              "      cursor: pointer;\n",
              "      display: none;\n",
              "      fill: #1967D2;\n",
              "      height: 32px;\n",
              "      padding: 0 0 0 0;\n",
              "      width: 32px;\n",
              "    }\n",
              "\n",
              "    .colab-df-convert:hover {\n",
              "      background-color: #E2EBFA;\n",
              "      box-shadow: 0px 1px 2px rgba(60, 64, 67, 0.3), 0px 1px 3px 1px rgba(60, 64, 67, 0.15);\n",
              "      fill: #174EA6;\n",
              "    }\n",
              "\n",
              "    .colab-df-buttons div {\n",
              "      margin-bottom: 4px;\n",
              "    }\n",
              "\n",
              "    [theme=dark] .colab-df-convert {\n",
              "      background-color: #3B4455;\n",
              "      fill: #D2E3FC;\n",
              "    }\n",
              "\n",
              "    [theme=dark] .colab-df-convert:hover {\n",
              "      background-color: #434B5C;\n",
              "      box-shadow: 0px 1px 3px 1px rgba(0, 0, 0, 0.15);\n",
              "      filter: drop-shadow(0px 1px 2px rgba(0, 0, 0, 0.3));\n",
              "      fill: #FFFFFF;\n",
              "    }\n",
              "  </style>\n",
              "\n",
              "    <script>\n",
              "      const buttonEl =\n",
              "        document.querySelector('#df-9d7de1ba-c461-4784-9ebd-46500bcaed37 button.colab-df-convert');\n",
              "      buttonEl.style.display =\n",
              "        google.colab.kernel.accessAllowed ? 'block' : 'none';\n",
              "\n",
              "      async function convertToInteractive(key) {\n",
              "        const element = document.querySelector('#df-9d7de1ba-c461-4784-9ebd-46500bcaed37');\n",
              "        const dataTable =\n",
              "          await google.colab.kernel.invokeFunction('convertToInteractive',\n",
              "                                                    [key], {});\n",
              "        if (!dataTable) return;\n",
              "\n",
              "        const docLinkHtml = 'Like what you see? Visit the ' +\n",
              "          '<a target=\"_blank\" href=https://colab.research.google.com/notebooks/data_table.ipynb>data table notebook</a>'\n",
              "          + ' to learn more about interactive tables.';\n",
              "        element.innerHTML = '';\n",
              "        dataTable['output_type'] = 'display_data';\n",
              "        await google.colab.output.renderOutput(dataTable, element);\n",
              "        const docLink = document.createElement('div');\n",
              "        docLink.innerHTML = docLinkHtml;\n",
              "        element.appendChild(docLink);\n",
              "      }\n",
              "    </script>\n",
              "  </div>\n",
              "\n",
              "\n",
              "<div id=\"df-8d499289-4f14-43b4-a77f-0076fe90dfe6\">\n",
              "  <button class=\"colab-df-quickchart\" onclick=\"quickchart('df-8d499289-4f14-43b4-a77f-0076fe90dfe6')\"\n",
              "            title=\"Suggest charts.\"\n",
              "            style=\"display:none;\">\n",
              "\n",
              "<svg xmlns=\"http://www.w3.org/2000/svg\" height=\"24px\"viewBox=\"0 0 24 24\"\n",
              "     width=\"24px\">\n",
              "    <g>\n",
              "        <path d=\"M19 3H5c-1.1 0-2 .9-2 2v14c0 1.1.9 2 2 2h14c1.1 0 2-.9 2-2V5c0-1.1-.9-2-2-2zM9 17H7v-7h2v7zm4 0h-2V7h2v10zm4 0h-2v-4h2v4z\"/>\n",
              "    </g>\n",
              "</svg>\n",
              "  </button>\n",
              "\n",
              "<style>\n",
              "  .colab-df-quickchart {\n",
              "      --bg-color: #E8F0FE;\n",
              "      --fill-color: #1967D2;\n",
              "      --hover-bg-color: #E2EBFA;\n",
              "      --hover-fill-color: #174EA6;\n",
              "      --disabled-fill-color: #AAA;\n",
              "      --disabled-bg-color: #DDD;\n",
              "  }\n",
              "\n",
              "  [theme=dark] .colab-df-quickchart {\n",
              "      --bg-color: #3B4455;\n",
              "      --fill-color: #D2E3FC;\n",
              "      --hover-bg-color: #434B5C;\n",
              "      --hover-fill-color: #FFFFFF;\n",
              "      --disabled-bg-color: #3B4455;\n",
              "      --disabled-fill-color: #666;\n",
              "  }\n",
              "\n",
              "  .colab-df-quickchart {\n",
              "    background-color: var(--bg-color);\n",
              "    border: none;\n",
              "    border-radius: 50%;\n",
              "    cursor: pointer;\n",
              "    display: none;\n",
              "    fill: var(--fill-color);\n",
              "    height: 32px;\n",
              "    padding: 0;\n",
              "    width: 32px;\n",
              "  }\n",
              "\n",
              "  .colab-df-quickchart:hover {\n",
              "    background-color: var(--hover-bg-color);\n",
              "    box-shadow: 0 1px 2px rgba(60, 64, 67, 0.3), 0 1px 3px 1px rgba(60, 64, 67, 0.15);\n",
              "    fill: var(--button-hover-fill-color);\n",
              "  }\n",
              "\n",
              "  .colab-df-quickchart-complete:disabled,\n",
              "  .colab-df-quickchart-complete:disabled:hover {\n",
              "    background-color: var(--disabled-bg-color);\n",
              "    fill: var(--disabled-fill-color);\n",
              "    box-shadow: none;\n",
              "  }\n",
              "\n",
              "  .colab-df-spinner {\n",
              "    border: 2px solid var(--fill-color);\n",
              "    border-color: transparent;\n",
              "    border-bottom-color: var(--fill-color);\n",
              "    animation:\n",
              "      spin 1s steps(1) infinite;\n",
              "  }\n",
              "\n",
              "  @keyframes spin {\n",
              "    0% {\n",
              "      border-color: transparent;\n",
              "      border-bottom-color: var(--fill-color);\n",
              "      border-left-color: var(--fill-color);\n",
              "    }\n",
              "    20% {\n",
              "      border-color: transparent;\n",
              "      border-left-color: var(--fill-color);\n",
              "      border-top-color: var(--fill-color);\n",
              "    }\n",
              "    30% {\n",
              "      border-color: transparent;\n",
              "      border-left-color: var(--fill-color);\n",
              "      border-top-color: var(--fill-color);\n",
              "      border-right-color: var(--fill-color);\n",
              "    }\n",
              "    40% {\n",
              "      border-color: transparent;\n",
              "      border-right-color: var(--fill-color);\n",
              "      border-top-color: var(--fill-color);\n",
              "    }\n",
              "    60% {\n",
              "      border-color: transparent;\n",
              "      border-right-color: var(--fill-color);\n",
              "    }\n",
              "    80% {\n",
              "      border-color: transparent;\n",
              "      border-right-color: var(--fill-color);\n",
              "      border-bottom-color: var(--fill-color);\n",
              "    }\n",
              "    90% {\n",
              "      border-color: transparent;\n",
              "      border-bottom-color: var(--fill-color);\n",
              "    }\n",
              "  }\n",
              "</style>\n",
              "\n",
              "  <script>\n",
              "    async function quickchart(key) {\n",
              "      const quickchartButtonEl =\n",
              "        document.querySelector('#' + key + ' button');\n",
              "      quickchartButtonEl.disabled = true;  // To prevent multiple clicks.\n",
              "      quickchartButtonEl.classList.add('colab-df-spinner');\n",
              "      try {\n",
              "        const charts = await google.colab.kernel.invokeFunction(\n",
              "            'suggestCharts', [key], {});\n",
              "      } catch (error) {\n",
              "        console.error('Error during call to suggestCharts:', error);\n",
              "      }\n",
              "      quickchartButtonEl.classList.remove('colab-df-spinner');\n",
              "      quickchartButtonEl.classList.add('colab-df-quickchart-complete');\n",
              "    }\n",
              "    (() => {\n",
              "      let quickchartButtonEl =\n",
              "        document.querySelector('#df-8d499289-4f14-43b4-a77f-0076fe90dfe6 button');\n",
              "      quickchartButtonEl.style.display =\n",
              "        google.colab.kernel.accessAllowed ? 'block' : 'none';\n",
              "    })();\n",
              "  </script>\n",
              "</div>\n",
              "    </div>\n",
              "  </div>\n"
            ]
          },
          "metadata": {},
          "execution_count": 3
        }
      ]
    },
    {
      "cell_type": "code",
      "source": [
        "data.shape"
      ],
      "metadata": {
        "colab": {
          "base_uri": "https://localhost:8080/"
        },
        "id": "mqZd8y7SRxxF",
        "outputId": "7b04dc4f-87b5-4725-9854-e6226b6e3ab3"
      },
      "execution_count": 4,
      "outputs": [
        {
          "output_type": "execute_result",
          "data": {
            "text/plain": [
              "(27395, 21)"
            ]
          },
          "metadata": {},
          "execution_count": 4
        }
      ]
    },
    {
      "cell_type": "code",
      "source": [
        "data.info()\n"
      ],
      "metadata": {
        "colab": {
          "base_uri": "https://localhost:8080/"
        },
        "id": "cxENb5ESR5nZ",
        "outputId": "cb870e2e-4180-49dc-ad8d-47f72f2c93ed"
      },
      "execution_count": 5,
      "outputs": [
        {
          "output_type": "stream",
          "name": "stdout",
          "text": [
            "<class 'pandas.core.frame.DataFrame'>\n",
            "RangeIndex: 27395 entries, 0 to 27394\n",
            "Data columns (total 21 columns):\n",
            " #   Column                          Non-Null Count  Dtype \n",
            "---  ------                          --------------  ----- \n",
            " 0   BOROUGH                         27395 non-null  int64 \n",
            " 1   NEIGHBORHOOD                    27395 non-null  object\n",
            " 2   BUILDING CLASS CATEGORY         27395 non-null  object\n",
            " 3   TAX CLASS AT PRESENT            27395 non-null  object\n",
            " 4   BLOCK                           27395 non-null  int64 \n",
            " 5   LOT                             27395 non-null  int64 \n",
            " 6   EASE-MENT                       27395 non-null  object\n",
            " 7   BUILDING CLASS AT PRESENT       27395 non-null  object\n",
            " 8   ADDRESS                         27395 non-null  object\n",
            " 9   APART\n",
            "MENT\n",
            "NUMBER               27395 non-null  object\n",
            " 10  ZIP CODE                        27395 non-null  int64 \n",
            " 11  RESIDENTIAL UNITS               27395 non-null  object\n",
            " 12  COMMERCIAL UNITS                27395 non-null  int64 \n",
            " 13  TOTAL UNITS                     27395 non-null  object\n",
            " 14  LAND SQUARE FEET                27395 non-null  object\n",
            " 15  GROSS SQUARE FEET               27395 non-null  object\n",
            " 16  YEAR BUILT                      27395 non-null  int64 \n",
            " 17  TAX CLASS AT TIME OF SALE       27395 non-null  int64 \n",
            " 18  BUILDING CLASS AT TIME OF SALE  27395 non-null  object\n",
            " 19  SALE\n",
            "PRICE                      27395 non-null  object\n",
            " 20  SALE DATE                       27395 non-null  object\n",
            "dtypes: int64(7), object(14)\n",
            "memory usage: 4.4+ MB\n"
          ]
        }
      ]
    },
    {
      "cell_type": "code",
      "source": [
        "data.columns = data.columns.str.replace(\"APART\\nMENT\\nNUMBER\", \"Apartment Number\")\n",
        "data.columns = data.columns.str.replace(\"SALE\\nPRICE\", \"Sale Price\")\n"
      ],
      "metadata": {
        "id": "Hvh9LIMYWXLq"
      },
      "execution_count": 6,
      "outputs": []
    },
    {
      "cell_type": "code",
      "source": [
        "data.info()"
      ],
      "metadata": {
        "colab": {
          "base_uri": "https://localhost:8080/"
        },
        "id": "02nGNY9cW9Gc",
        "outputId": "486b5b7c-4fcb-44f1-d192-e550abff1e65"
      },
      "execution_count": 7,
      "outputs": [
        {
          "output_type": "stream",
          "name": "stdout",
          "text": [
            "<class 'pandas.core.frame.DataFrame'>\n",
            "RangeIndex: 27395 entries, 0 to 27394\n",
            "Data columns (total 21 columns):\n",
            " #   Column                          Non-Null Count  Dtype \n",
            "---  ------                          --------------  ----- \n",
            " 0   BOROUGH                         27395 non-null  int64 \n",
            " 1   NEIGHBORHOOD                    27395 non-null  object\n",
            " 2   BUILDING CLASS CATEGORY         27395 non-null  object\n",
            " 3   TAX CLASS AT PRESENT            27395 non-null  object\n",
            " 4   BLOCK                           27395 non-null  int64 \n",
            " 5   LOT                             27395 non-null  int64 \n",
            " 6   EASE-MENT                       27395 non-null  object\n",
            " 7   BUILDING CLASS AT PRESENT       27395 non-null  object\n",
            " 8   ADDRESS                         27395 non-null  object\n",
            " 9   Apartment Number                27395 non-null  object\n",
            " 10  ZIP CODE                        27395 non-null  int64 \n",
            " 11  RESIDENTIAL UNITS               27395 non-null  object\n",
            " 12  COMMERCIAL UNITS                27395 non-null  int64 \n",
            " 13  TOTAL UNITS                     27395 non-null  object\n",
            " 14  LAND SQUARE FEET                27395 non-null  object\n",
            " 15  GROSS SQUARE FEET               27395 non-null  object\n",
            " 16  YEAR BUILT                      27395 non-null  int64 \n",
            " 17  TAX CLASS AT TIME OF SALE       27395 non-null  int64 \n",
            " 18  BUILDING CLASS AT TIME OF SALE  27395 non-null  object\n",
            " 19  Sale Price                      27395 non-null  object\n",
            " 20  SALE DATE                       27395 non-null  object\n",
            "dtypes: int64(7), object(14)\n",
            "memory usage: 4.4+ MB\n"
          ]
        }
      ]
    },
    {
      "cell_type": "code",
      "source": [
        "import numpy as np\n",
        "data_num=data.select_dtypes(include=[np.number])\n",
        "data_num.info()"
      ],
      "metadata": {
        "colab": {
          "base_uri": "https://localhost:8080/"
        },
        "id": "XLt6P_1bYzaC",
        "outputId": "cb0f4e48-46b6-445c-bdc5-91e16bc245ea"
      },
      "execution_count": 8,
      "outputs": [
        {
          "output_type": "stream",
          "name": "stdout",
          "text": [
            "<class 'pandas.core.frame.DataFrame'>\n",
            "RangeIndex: 27395 entries, 0 to 27394\n",
            "Data columns (total 7 columns):\n",
            " #   Column                     Non-Null Count  Dtype\n",
            "---  ------                     --------------  -----\n",
            " 0   BOROUGH                    27395 non-null  int64\n",
            " 1   BLOCK                      27395 non-null  int64\n",
            " 2   LOT                        27395 non-null  int64\n",
            " 3   ZIP CODE                   27395 non-null  int64\n",
            " 4   COMMERCIAL UNITS           27395 non-null  int64\n",
            " 5   YEAR BUILT                 27395 non-null  int64\n",
            " 6   TAX CLASS AT TIME OF SALE  27395 non-null  int64\n",
            "dtypes: int64(7)\n",
            "memory usage: 1.5 MB\n"
          ]
        }
      ]
    },
    {
      "cell_type": "code",
      "source": [
        "data_cat=data.select_dtypes(include=[object])\n",
        "data_cat.info()"
      ],
      "metadata": {
        "colab": {
          "base_uri": "https://localhost:8080/"
        },
        "id": "he46GjzSffNG",
        "outputId": "3fe63dad-c4f7-4515-a605-01ba15802b1d"
      },
      "execution_count": 9,
      "outputs": [
        {
          "output_type": "stream",
          "name": "stdout",
          "text": [
            "<class 'pandas.core.frame.DataFrame'>\n",
            "RangeIndex: 27395 entries, 0 to 27394\n",
            "Data columns (total 14 columns):\n",
            " #   Column                          Non-Null Count  Dtype \n",
            "---  ------                          --------------  ----- \n",
            " 0   NEIGHBORHOOD                    27395 non-null  object\n",
            " 1   BUILDING CLASS CATEGORY         27395 non-null  object\n",
            " 2   TAX CLASS AT PRESENT            27395 non-null  object\n",
            " 3   EASE-MENT                       27395 non-null  object\n",
            " 4   BUILDING CLASS AT PRESENT       27395 non-null  object\n",
            " 5   ADDRESS                         27395 non-null  object\n",
            " 6   Apartment Number                27395 non-null  object\n",
            " 7   RESIDENTIAL UNITS               27395 non-null  object\n",
            " 8   TOTAL UNITS                     27395 non-null  object\n",
            " 9   LAND SQUARE FEET                27395 non-null  object\n",
            " 10  GROSS SQUARE FEET               27395 non-null  object\n",
            " 11  BUILDING CLASS AT TIME OF SALE  27395 non-null  object\n",
            " 12  Sale Price                      27395 non-null  object\n",
            " 13  SALE DATE                       27395 non-null  object\n",
            "dtypes: object(14)\n",
            "memory usage: 2.9+ MB\n"
          ]
        }
      ]
    },
    {
      "cell_type": "code",
      "source": [
        "k=0\n",
        "for i in data['Sale Price']:\n",
        "  str=\"\"\n",
        "  for j in i:\n",
        "    if(j==',' or j=='$'):\n",
        "     continue\n",
        "    else:\n",
        "      str+=j\n",
        "\n",
        "  data['Sale Price'][k]=i.replace(i,str)\n",
        "  k=k+1"
      ],
      "metadata": {
        "colab": {
          "base_uri": "https://localhost:8080/"
        },
        "id": "PFBELmhuf7xv",
        "outputId": "ac916b7d-d5e9-4b60-bfd6-b30e8299e85e"
      },
      "execution_count": 10,
      "outputs": [
        {
          "output_type": "stream",
          "name": "stderr",
          "text": [
            "<ipython-input-10-c00db87b88f5>:10: SettingWithCopyWarning: \n",
            "A value is trying to be set on a copy of a slice from a DataFrame\n",
            "\n",
            "See the caveats in the documentation: https://pandas.pydata.org/pandas-docs/stable/user_guide/indexing.html#returning-a-view-versus-a-copy\n",
            "  data['Sale Price'][k]=i.replace(i,str)\n"
          ]
        }
      ]
    },
    {
      "cell_type": "code",
      "source": [
        "data[\"Sale Price\"]"
      ],
      "metadata": {
        "colab": {
          "base_uri": "https://localhost:8080/"
        },
        "id": "8E-cPhywuqJP",
        "outputId": "1bd76287-ec83-4021-8835-d217c112ac76"
      },
      "execution_count": 11,
      "outputs": [
        {
          "output_type": "execute_result",
          "data": {
            "text/plain": [
              "0        2214693\n",
              "1        1654656\n",
              "2        1069162\n",
              "3        1374637\n",
              "4        1649565\n",
              "          ...   \n",
              "27390          0\n",
              "27391     495000\n",
              "27392          0\n",
              "27393          0\n",
              "27394          0\n",
              "Name: Sale Price, Length: 27395, dtype: object"
            ]
          },
          "metadata": {},
          "execution_count": 11
        }
      ]
    },
    {
      "cell_type": "code",
      "source": [
        "data['Sale Price']=pd.to_numeric(data['Sale Price'])"
      ],
      "metadata": {
        "id": "-8Yplg3Aylyv"
      },
      "execution_count": 12,
      "outputs": []
    },
    {
      "cell_type": "code",
      "source": [
        "data['Sale Price'].info()"
      ],
      "metadata": {
        "colab": {
          "base_uri": "https://localhost:8080/"
        },
        "id": "aDfTlOrS0i_q",
        "outputId": "343a0623-d453-4978-c2d1-99ed3515513c"
      },
      "execution_count": 13,
      "outputs": [
        {
          "output_type": "stream",
          "name": "stdout",
          "text": [
            "<class 'pandas.core.series.Series'>\n",
            "RangeIndex: 27395 entries, 0 to 27394\n",
            "Series name: Sale Price\n",
            "Non-Null Count  Dtype\n",
            "--------------  -----\n",
            "27395 non-null  int64\n",
            "dtypes: int64(1)\n",
            "memory usage: 214.1 KB\n"
          ]
        }
      ]
    },
    {
      "cell_type": "code",
      "source": [
        "data['SALE DATE']=pd.to_datetime(data['SALE DATE'])"
      ],
      "metadata": {
        "colab": {
          "base_uri": "https://localhost:8080/"
        },
        "id": "VDQOo1qy08V0",
        "outputId": "7855a0c4-c065-436f-abeb-171a21ae886d"
      },
      "execution_count": 14,
      "outputs": [
        {
          "output_type": "stream",
          "name": "stderr",
          "text": [
            "<ipython-input-14-f9e7a7beb517>:1: UserWarning: Parsing dates in DD/MM/YYYY format when dayfirst=False (the default) was specified. This may lead to inconsistently parsed dates! Specify a format to ensure consistent parsing.\n",
            "  data['SALE DATE']=pd.to_datetime(data['SALE DATE'])\n"
          ]
        }
      ]
    },
    {
      "cell_type": "code",
      "source": [
        "data['SALE DATE'].info()"
      ],
      "metadata": {
        "colab": {
          "base_uri": "https://localhost:8080/"
        },
        "id": "K6HKdGTP1XEx",
        "outputId": "8fd1a035-873f-4016-b4a3-e1599ed800b4"
      },
      "execution_count": 15,
      "outputs": [
        {
          "output_type": "stream",
          "name": "stdout",
          "text": [
            "<class 'pandas.core.series.Series'>\n",
            "RangeIndex: 27395 entries, 0 to 27394\n",
            "Series name: SALE DATE\n",
            "Non-Null Count  Dtype         \n",
            "--------------  -----         \n",
            "27395 non-null  datetime64[ns]\n",
            "dtypes: datetime64[ns](1)\n",
            "memory usage: 214.1 KB\n"
          ]
        }
      ]
    },
    {
      "cell_type": "code",
      "source": [
        "data_cat=data.select_dtypes(include=[object])\n",
        "data_cat.info()"
      ],
      "metadata": {
        "colab": {
          "base_uri": "https://localhost:8080/"
        },
        "id": "B-Cxm3Rq1dC-",
        "outputId": "6e35acf9-122e-4c12-97b3-a63537fa100c"
      },
      "execution_count": 16,
      "outputs": [
        {
          "output_type": "stream",
          "name": "stdout",
          "text": [
            "<class 'pandas.core.frame.DataFrame'>\n",
            "RangeIndex: 27395 entries, 0 to 27394\n",
            "Data columns (total 12 columns):\n",
            " #   Column                          Non-Null Count  Dtype \n",
            "---  ------                          --------------  ----- \n",
            " 0   NEIGHBORHOOD                    27395 non-null  object\n",
            " 1   BUILDING CLASS CATEGORY         27395 non-null  object\n",
            " 2   TAX CLASS AT PRESENT            27395 non-null  object\n",
            " 3   EASE-MENT                       27395 non-null  object\n",
            " 4   BUILDING CLASS AT PRESENT       27395 non-null  object\n",
            " 5   ADDRESS                         27395 non-null  object\n",
            " 6   Apartment Number                27395 non-null  object\n",
            " 7   RESIDENTIAL UNITS               27395 non-null  object\n",
            " 8   TOTAL UNITS                     27395 non-null  object\n",
            " 9   LAND SQUARE FEET                27395 non-null  object\n",
            " 10  GROSS SQUARE FEET               27395 non-null  object\n",
            " 11  BUILDING CLASS AT TIME OF SALE  27395 non-null  object\n",
            "dtypes: object(12)\n",
            "memory usage: 2.5+ MB\n"
          ]
        }
      ]
    },
    {
      "cell_type": "code",
      "source": [
        "for columns in data_cat:\n",
        "  data[columns] = data[columns].replace(r'^\\s*$', np.nan, regex=True)\n"
      ],
      "metadata": {
        "id": "xl0HfrmK1ww5"
      },
      "execution_count": 17,
      "outputs": []
    },
    {
      "cell_type": "code",
      "source": [
        "import numpy as np\n",
        "data_num=data.select_dtypes(include=[np.number])\n",
        "data_num.info()"
      ],
      "metadata": {
        "colab": {
          "base_uri": "https://localhost:8080/"
        },
        "id": "XMEdbFHgDm9m",
        "outputId": "eb4ddcc0-4dbb-4461-e20d-508f9ec67a92"
      },
      "execution_count": 18,
      "outputs": [
        {
          "output_type": "stream",
          "name": "stdout",
          "text": [
            "<class 'pandas.core.frame.DataFrame'>\n",
            "RangeIndex: 27395 entries, 0 to 27394\n",
            "Data columns (total 9 columns):\n",
            " #   Column                     Non-Null Count  Dtype  \n",
            "---  ------                     --------------  -----  \n",
            " 0   BOROUGH                    27395 non-null  int64  \n",
            " 1   BLOCK                      27395 non-null  int64  \n",
            " 2   LOT                        27395 non-null  int64  \n",
            " 3   EASE-MENT                  0 non-null      float64\n",
            " 4   ZIP CODE                   27395 non-null  int64  \n",
            " 5   COMMERCIAL UNITS           27395 non-null  int64  \n",
            " 6   YEAR BUILT                 27395 non-null  int64  \n",
            " 7   TAX CLASS AT TIME OF SALE  27395 non-null  int64  \n",
            " 8   Sale Price                 27395 non-null  int64  \n",
            "dtypes: float64(1), int64(8)\n",
            "memory usage: 1.9 MB\n"
          ]
        }
      ]
    },
    {
      "cell_type": "code",
      "source": [
        "for columns in data_num:\n",
        "  data[columns] = data[columns].replace(0, np.nan, regex=True)"
      ],
      "metadata": {
        "id": "onTZ8oH1DRt5"
      },
      "execution_count": 19,
      "outputs": []
    },
    {
      "cell_type": "code",
      "source": [
        "data.info()"
      ],
      "metadata": {
        "colab": {
          "base_uri": "https://localhost:8080/"
        },
        "id": "qEWQr7dg2-nF",
        "outputId": "f1d0447a-6fd7-402d-e1d6-ca783521dcaa"
      },
      "execution_count": 20,
      "outputs": [
        {
          "output_type": "stream",
          "name": "stdout",
          "text": [
            "<class 'pandas.core.frame.DataFrame'>\n",
            "RangeIndex: 27395 entries, 0 to 27394\n",
            "Data columns (total 21 columns):\n",
            " #   Column                          Non-Null Count  Dtype         \n",
            "---  ------                          --------------  -----         \n",
            " 0   BOROUGH                         27395 non-null  int64         \n",
            " 1   NEIGHBORHOOD                    27378 non-null  object        \n",
            " 2   BUILDING CLASS CATEGORY         23941 non-null  object        \n",
            " 3   TAX CLASS AT PRESENT            27252 non-null  object        \n",
            " 4   BLOCK                           27395 non-null  int64         \n",
            " 5   LOT                             27395 non-null  int64         \n",
            " 6   EASE-MENT                       0 non-null      float64       \n",
            " 7   BUILDING CLASS AT PRESENT       27252 non-null  object        \n",
            " 8   ADDRESS                         27395 non-null  object        \n",
            " 9   Apartment Number                12825 non-null  object        \n",
            " 10  ZIP CODE                        27394 non-null  float64       \n",
            " 11  RESIDENTIAL UNITS               27395 non-null  object        \n",
            " 12  COMMERCIAL UNITS                3433 non-null   float64       \n",
            " 13  TOTAL UNITS                     27395 non-null  object        \n",
            " 14  LAND SQUARE FEET                27395 non-null  object        \n",
            " 15  GROSS SQUARE FEET               27395 non-null  object        \n",
            " 16  YEAR BUILT                      20954 non-null  float64       \n",
            " 17  TAX CLASS AT TIME OF SALE       27395 non-null  int64         \n",
            " 18  BUILDING CLASS AT TIME OF SALE  27395 non-null  object        \n",
            " 19  Sale Price                      19802 non-null  float64       \n",
            " 20  SALE DATE                       27395 non-null  datetime64[ns]\n",
            "dtypes: datetime64[ns](1), float64(5), int64(4), object(11)\n",
            "memory usage: 4.4+ MB\n"
          ]
        }
      ]
    },
    {
      "cell_type": "code",
      "source": [
        "data=data.drop(\"BOROUGH\",axis=1)\n",
        "data=data.drop(\"EASE-MENT\",axis=1)\n",
        "data=data.drop(\"Apartment Number\",axis=1)\n"
      ],
      "metadata": {
        "id": "xbJ_4r6dDLDS"
      },
      "execution_count": 21,
      "outputs": []
    },
    {
      "cell_type": "code",
      "source": [
        "data.shape"
      ],
      "metadata": {
        "colab": {
          "base_uri": "https://localhost:8080/"
        },
        "id": "zLSdSpaBEGu_",
        "outputId": "c8f85827-54cb-4a09-ca14-7c8e81913f61"
      },
      "execution_count": 22,
      "outputs": [
        {
          "output_type": "execute_result",
          "data": {
            "text/plain": [
              "(27395, 18)"
            ]
          },
          "metadata": {},
          "execution_count": 22
        }
      ]
    },
    {
      "cell_type": "code",
      "source": [
        "data=data.drop_duplicates(subset=[\"Sale Price\",\"SALE DATE\",\"ADDRESS\",\"NEIGHBORHOOD\",\"BUILDING CLASS CATEGORY\",\"LOT\",\"BLOCK\"])"
      ],
      "metadata": {
        "id": "R5zO9rEdEWSM"
      },
      "execution_count": 23,
      "outputs": []
    },
    {
      "cell_type": "code",
      "source": [
        "data=data.dropna()"
      ],
      "metadata": {
        "id": "VaISXc3wFZIf"
      },
      "execution_count": 24,
      "outputs": []
    },
    {
      "cell_type": "code",
      "source": [
        "data.info()"
      ],
      "metadata": {
        "colab": {
          "base_uri": "https://localhost:8080/"
        },
        "id": "0fpvSwadIBhm",
        "outputId": "548bdb55-4ba6-45e7-8f84-d179394f8766"
      },
      "execution_count": 25,
      "outputs": [
        {
          "output_type": "stream",
          "name": "stdout",
          "text": [
            "<class 'pandas.core.frame.DataFrame'>\n",
            "Int64Index: 1578 entries, 24 to 27386\n",
            "Data columns (total 18 columns):\n",
            " #   Column                          Non-Null Count  Dtype         \n",
            "---  ------                          --------------  -----         \n",
            " 0   NEIGHBORHOOD                    1578 non-null   object        \n",
            " 1   BUILDING CLASS CATEGORY         1578 non-null   object        \n",
            " 2   TAX CLASS AT PRESENT            1578 non-null   object        \n",
            " 3   BLOCK                           1578 non-null   int64         \n",
            " 4   LOT                             1578 non-null   int64         \n",
            " 5   BUILDING CLASS AT PRESENT       1578 non-null   object        \n",
            " 6   ADDRESS                         1578 non-null   object        \n",
            " 7   ZIP CODE                        1578 non-null   float64       \n",
            " 8   RESIDENTIAL UNITS               1578 non-null   object        \n",
            " 9   COMMERCIAL UNITS                1578 non-null   float64       \n",
            " 10  TOTAL UNITS                     1578 non-null   object        \n",
            " 11  LAND SQUARE FEET                1578 non-null   object        \n",
            " 12  GROSS SQUARE FEET               1578 non-null   object        \n",
            " 13  YEAR BUILT                      1578 non-null   float64       \n",
            " 14  TAX CLASS AT TIME OF SALE       1578 non-null   int64         \n",
            " 15  BUILDING CLASS AT TIME OF SALE  1578 non-null   object        \n",
            " 16  Sale Price                      1578 non-null   float64       \n",
            " 17  SALE DATE                       1578 non-null   datetime64[ns]\n",
            "dtypes: datetime64[ns](1), float64(4), int64(3), object(10)\n",
            "memory usage: 234.2+ KB\n"
          ]
        }
      ]
    },
    {
      "cell_type": "markdown",
      "source": [
        "# Visualize the data"
      ],
      "metadata": {
        "id": "HQctjvjCIUMw"
      }
    },
    {
      "cell_type": "code",
      "source": [
        "data.plot(kind=\"scatter\",x=\"NEIGHBORHOOD\",y=\"Sale Price\")\n"
      ],
      "metadata": {
        "colab": {
          "base_uri": "https://localhost:8080/",
          "height": 482
        },
        "id": "SpYJrpBTIXTo",
        "outputId": "ee08fa11-32e0-457b-acd5-0a9c4096e661"
      },
      "execution_count": 26,
      "outputs": [
        {
          "output_type": "execute_result",
          "data": {
            "text/plain": [
              "<Axes: xlabel='NEIGHBORHOOD', ylabel='Sale Price'>"
            ]
          },
          "metadata": {},
          "execution_count": 26
        },
        {
          "output_type": "display_data",
          "data": {
            "text/plain": [
              "<Figure size 640x480 with 1 Axes>"
            ],
            "image/png": "[encoded data removed]"
          },
          "metadata": {}
        }
      ]
    },
    {
      "cell_type": "code",
      "source": [
        "data.plot(kind=\"scatter\",x=\"YEAR BUILT\",y=\"Sale Price\")"
      ],
      "metadata": {
        "colab": {
          "base_uri": "https://localhost:8080/",
          "height": 482
        },
        "id": "O104vrlOJN1M",
        "outputId": "b8b100e9-9874-438e-886f-9b2dfe1a370f"
      },
      "execution_count": 27,
      "outputs": [
        {
          "output_type": "execute_result",
          "data": {
            "text/plain": [
              "<Axes: xlabel='YEAR BUILT', ylabel='Sale Price'>"
            ]
          },
          "metadata": {},
          "execution_count": 27
        },
        {
          "output_type": "display_data",
          "data": {
            "text/plain": [
              "<Figure size 640x480 with 1 Axes>"
            ],
            "image/png": "[encoded data removed]"
          },
          "metadata": {}
        }
      ]
    },
    {
      "cell_type": "code",
      "source": [
        "corr_matrix=data.corr()"
      ],
      "metadata": {
        "colab": {
          "base_uri": "https://localhost:8080/"
        },
        "id": "Yfd5JjxjJe3V",
        "outputId": "db8ef841-9529-414e-c620-8bf11bb0ceab"
      },
      "execution_count": 28,
      "outputs": [
        {
          "output_type": "stream",
          "name": "stderr",
          "text": [
            "<ipython-input-28-dad23a0c43be>:1: FutureWarning: The default value of numeric_only in DataFrame.corr is deprecated. In a future version, it will default to False. Select only valid columns or specify the value of numeric_only to silence this warning.\n",
            "  corr_matrix=data.corr()\n"
          ]
        }
      ]
    },
    {
      "cell_type": "code",
      "source": [
        "corr_matrix"
      ],
      "metadata": {
        "colab": {
          "base_uri": "https://localhost:8080/",
          "height": 269
        },
        "id": "ENKN6R-ZJjER",
        "outputId": "4b75d5a4-0eeb-4354-b802-5a19db31506f"
      },
      "execution_count": 29,
      "outputs": [
        {
          "output_type": "execute_result",
          "data": {
            "text/plain": [
              "                              BLOCK       LOT  ZIP CODE  COMMERCIAL UNITS  \\\n",
              "BLOCK                      1.000000 -0.055671  0.450612         -0.012688   \n",
              "LOT                       -0.055671  1.000000  0.057091         -0.072025   \n",
              "ZIP CODE                   0.450612  0.057091  1.000000         -0.008260   \n",
              "COMMERCIAL UNITS          -0.012688 -0.072025 -0.008260          1.000000   \n",
              "YEAR BUILT                -0.002658  0.087294 -0.052782         -0.111484   \n",
              "TAX CLASS AT TIME OF SALE -0.144559  0.020236 -0.165506          0.095570   \n",
              "Sale Price                -0.020313  0.009804 -0.006421          0.192575   \n",
              "\n",
              "                           YEAR BUILT  TAX CLASS AT TIME OF SALE  Sale Price  \n",
              "BLOCK                       -0.002658                  -0.144559   -0.020313  \n",
              "LOT                          0.087294                   0.020236    0.009804  \n",
              "ZIP CODE                    -0.052782                  -0.165506   -0.006421  \n",
              "COMMERCIAL UNITS            -0.111484                   0.095570    0.192575  \n",
              "YEAR BUILT                   1.000000                   0.587847   -0.095811  \n",
              "TAX CLASS AT TIME OF SALE    0.587847                   1.000000    0.036746  \n",
              "Sale Price                  -0.095811                   0.036746    1.000000  "
            ],
            "text/html": [
              "\n",
              "  <div id=\"df-e2f71623-9d41-4447-93e2-420712c576a2\" class=\"colab-df-container\">\n",
              "    <div>\n",
              "<style scoped>\n",
              "    .dataframe tbody tr th:only-of-type {\n",
              "        vertical-align: middle;\n",
              "    }\n",
              "\n",
              "    .dataframe tbody tr th {\n",
              "        vertical-align: top;\n",
              "    }\n",
              "\n",
              "    .dataframe thead th {\n",
              "        text-align: right;\n",
              "    }\n",
              "</style>\n",
              "<table border=\"1\" class=\"dataframe\">\n",
              "  <thead>\n",
              "    <tr style=\"text-align: right;\">\n",
              "      <th></th>\n",
              "      <th>BLOCK</th>\n",
              "      <th>LOT</th>\n",
              "      <th>ZIP CODE</th>\n",
              "      <th>COMMERCIAL UNITS</th>\n",
              "      <th>YEAR BUILT</th>\n",
              "      <th>TAX CLASS AT TIME OF SALE</th>\n",
              "      <th>Sale Price</th>\n",
              "    </tr>\n",
              "  </thead>\n",
              "  <tbody>\n",
              "    <tr>\n",
              "      <th>BLOCK</th>\n",
              "      <td>1.000000</td>\n",
              "      <td>-0.055671</td>\n",
              "      <td>0.450612</td>\n",
              "      <td>-0.012688</td>\n",
              "      <td>-0.002658</td>\n",
              "      <td>-0.144559</td>\n",
              "      <td>-0.020313</td>\n",
              "    </tr>\n",
              "    <tr>\n",
              "      <th>LOT</th>\n",
              "      <td>-0.055671</td>\n",
              "      <td>1.000000</td>\n",
              "      <td>0.057091</td>\n",
              "      <td>-0.072025</td>\n",
              "      <td>0.087294</td>\n",
              "      <td>0.020236</td>\n",
              "      <td>0.009804</td>\n",
              "    </tr>\n",
              "    <tr>\n",
              "      <th>ZIP CODE</th>\n",
              "      <td>0.450612</td>\n",
              "      <td>0.057091</td>\n",
              "      <td>1.000000</td>\n",
              "      <td>-0.008260</td>\n",
              "      <td>-0.052782</td>\n",
              "      <td>-0.165506</td>\n",
              "      <td>-0.006421</td>\n",
              "    </tr>\n",
              "    <tr>\n",
              "      <th>COMMERCIAL UNITS</th>\n",
              "      <td>-0.012688</td>\n",
              "      <td>-0.072025</td>\n",
              "      <td>-0.008260</td>\n",
              "      <td>1.000000</td>\n",
              "      <td>-0.111484</td>\n",
              "      <td>0.095570</td>\n",
              "      <td>0.192575</td>\n",
              "    </tr>\n",
              "    <tr>\n",
              "      <th>YEAR BUILT</th>\n",
              "      <td>-0.002658</td>\n",
              "      <td>0.087294</td>\n",
              "      <td>-0.052782</td>\n",
              "      <td>-0.111484</td>\n",
              "      <td>1.000000</td>\n",
              "      <td>0.587847</td>\n",
              "      <td>-0.095811</td>\n",
              "    </tr>\n",
              "    <tr>\n",
              "      <th>TAX CLASS AT TIME OF SALE</th>\n",
              "      <td>-0.144559</td>\n",
              "      <td>0.020236</td>\n",
              "      <td>-0.165506</td>\n",
              "      <td>0.095570</td>\n",
              "      <td>0.587847</td>\n",
              "      <td>1.000000</td>\n",
              "      <td>0.036746</td>\n",
              "    </tr>\n",
              "    <tr>\n",
              "      <th>Sale Price</th>\n",
              "      <td>-0.020313</td>\n",
              "      <td>0.009804</td>\n",
              "      <td>-0.006421</td>\n",
              "      <td>0.192575</td>\n",
              "      <td>-0.095811</td>\n",
              "      <td>0.036746</td>\n",
              "      <td>1.000000</td>\n",
              "    </tr>\n",
              "  </tbody>\n",
              "</table>\n",
              "</div>\n",
              "    <div class=\"colab-df-buttons\">\n",
              "\n",
              "  <div class=\"colab-df-container\">\n",
              "    <button class=\"colab-df-convert\" onclick=\"convertToInteractive('df-e2f71623-9d41-4447-93e2-420712c576a2')\"\n",
              "            title=\"Convert this dataframe to an interactive table.\"\n",
              "            style=\"display:none;\">\n",
              "\n",
              "  <svg xmlns=\"http://www.w3.org/2000/svg\" height=\"24px\" viewBox=\"0 -960 960 960\">\n",
              "    <path d=\"M120-120v-720h720v720H120Zm60-500h600v-160H180v160Zm220 220h160v-160H400v160Zm0 220h160v-160H400v160ZM180-400h160v-160H180v160Zm440 0h160v-160H620v160ZM180-180h160v-160H180v160Zm440 0h160v-160H620v160Z\"/>\n",
              "  </svg>\n",
              "    </button>\n",
              "\n",
              "  <style>\n",
              "    .colab-df-container {\n",
              "      display:flex;\n",
              "      gap: 12px;\n",
              "    }\n",
              "\n",
              "    .colab-df-convert {\n",
              "      background-color: #E8F0FE;\n",
              "      border: none;\n",
              "      border-radius: 50%;\n",
              "      cursor: pointer;\n",
              "      display: none;\n",
              "      fill: #1967D2;\n",
              "      height: 32px;\n",
              "      padding: 0 0 0 0;\n",
              "      width: 32px;\n",
              "    }\n",
              "\n",
              "    .colab-df-convert:hover {\n",
              "      background-color: #E2EBFA;\n",
              "      box-shadow: 0px 1px 2px rgba(60, 64, 67, 0.3), 0px 1px 3px 1px rgba(60, 64, 67, 0.15);\n",
              "      fill: #174EA6;\n",
              "    }\n",
              "\n",
              "    .colab-df-buttons div {\n",
              "      margin-bottom: 4px;\n",
              "    }\n",
              "\n",
              "    [theme=dark] .colab-df-convert {\n",
              "      background-color: #3B4455;\n",
              "      fill: #D2E3FC;\n",
              "    }\n",
              "\n",
              "    [theme=dark] .colab-df-convert:hover {\n",
              "      background-color: #434B5C;\n",
              "      box-shadow: 0px 1px 3px 1px rgba(0, 0, 0, 0.15);\n",
              "      filter: drop-shadow(0px 1px 2px rgba(0, 0, 0, 0.3));\n",
              "      fill: #FFFFFF;\n",
              "    }\n",
              "  </style>\n",
              "\n",
              "    <script>\n",
              "      const buttonEl =\n",
              "        document.querySelector('#df-e2f71623-9d41-4447-93e2-420712c576a2 button.colab-df-convert');\n",
              "      buttonEl.style.display =\n",
              "        google.colab.kernel.accessAllowed ? 'block' : 'none';\n",
              "\n",
              "      async function convertToInteractive(key) {\n",
              "        const element = document.querySelector('#df-e2f71623-9d41-4447-93e2-420712c576a2');\n",
              "        const dataTable =\n",
              "          await google.colab.kernel.invokeFunction('convertToInteractive',\n",
              "                                                    [key], {});\n",
              "        if (!dataTable) return;\n",
              "\n",
              "        const docLinkHtml = 'Like what you see? Visit the ' +\n",
              "          '<a target=\"_blank\" href=https://colab.research.google.com/notebooks/data_table.ipynb>data table notebook</a>'\n",
              "          + ' to learn more about interactive tables.';\n",
              "        element.innerHTML = '';\n",
              "        dataTable['output_type'] = 'display_data';\n",
              "        await google.colab.output.renderOutput(dataTable, element);\n",
              "        const docLink = document.createElement('div');\n",
              "        docLink.innerHTML = docLinkHtml;\n",
              "        element.appendChild(docLink);\n",
              "      }\n",
              "    </script>\n",
              "  </div>\n",
              "\n",
              "\n",
              "<div id=\"df-922e7bd2-9413-4359-9141-9235383b5311\">\n",
              "  <button class=\"colab-df-quickchart\" onclick=\"quickchart('df-922e7bd2-9413-4359-9141-9235383b5311')\"\n",
              "            title=\"Suggest charts.\"\n",
              "            style=\"display:none;\">\n",
              "\n",
              "<svg xmlns=\"http://www.w3.org/2000/svg\" height=\"24px\"viewBox=\"0 0 24 24\"\n",
              "     width=\"24px\">\n",
              "    <g>\n",
              "        <path d=\"M19 3H5c-1.1 0-2 .9-2 2v14c0 1.1.9 2 2 2h14c1.1 0 2-.9 2-2V5c0-1.1-.9-2-2-2zM9 17H7v-7h2v7zm4 0h-2V7h2v10zm4 0h-2v-4h2v4z\"/>\n",
              "    </g>\n",
              "</svg>\n",
              "  </button>\n",
              "\n",
              "<style>\n",
              "  .colab-df-quickchart {\n",
              "      --bg-color: #E8F0FE;\n",
              "      --fill-color: #1967D2;\n",
              "      --hover-bg-color: #E2EBFA;\n",
              "      --hover-fill-color: #174EA6;\n",
              "      --disabled-fill-color: #AAA;\n",
              "      --disabled-bg-color: #DDD;\n",
              "  }\n",
              "\n",
              "  [theme=dark] .colab-df-quickchart {\n",
              "      --bg-color: #3B4455;\n",
              "      --fill-color: #D2E3FC;\n",
              "      --hover-bg-color: #434B5C;\n",
              "      --hover-fill-color: #FFFFFF;\n",
              "      --disabled-bg-color: #3B4455;\n",
              "      --disabled-fill-color: #666;\n",
              "  }\n",
              "\n",
              "  .colab-df-quickchart {\n",
              "    background-color: var(--bg-color);\n",
              "    border: none;\n",
              "    border-radius: 50%;\n",
              "    cursor: pointer;\n",
              "    display: none;\n",
              "    fill: var(--fill-color);\n",
              "    height: 32px;\n",
              "    padding: 0;\n",
              "    width: 32px;\n",
              "  }\n",
              "\n",
              "  .colab-df-quickchart:hover {\n",
              "    background-color: var(--hover-bg-color);\n",
              "    box-shadow: 0 1px 2px rgba(60, 64, 67, 0.3), 0 1px 3px 1px rgba(60, 64, 67, 0.15);\n",
              "    fill: var(--button-hover-fill-color);\n",
              "  }\n",
              "\n",
              "  .colab-df-quickchart-complete:disabled,\n",
              "  .colab-df-quickchart-complete:disabled:hover {\n",
              "    background-color: var(--disabled-bg-color);\n",
              "    fill: var(--disabled-fill-color);\n",
              "    box-shadow: none;\n",
              "  }\n",
              "\n",
              "  .colab-df-spinner {\n",
              "    border: 2px solid var(--fill-color);\n",
              "    border-color: transparent;\n",
              "    border-bottom-color: var(--fill-color);\n",
              "    animation:\n",
              "      spin 1s steps(1) infinite;\n",
              "  }\n",
              "\n",
              "  @keyframes spin {\n",
              "    0% {\n",
              "      border-color: transparent;\n",
              "      border-bottom-color: var(--fill-color);\n",
              "      border-left-color: var(--fill-color);\n",
              "    }\n",
              "    20% {\n",
              "      border-color: transparent;\n",
              "      border-left-color: var(--fill-color);\n",
              "      border-top-color: var(--fill-color);\n",
              "    }\n",
              "    30% {\n",
              "      border-color: transparent;\n",
              "      border-left-color: var(--fill-color);\n",
              "      border-top-color: var(--fill-color);\n",
              "      border-right-color: var(--fill-color);\n",
              "    }\n",
              "    40% {\n",
              "      border-color: transparent;\n",
              "      border-right-color: var(--fill-color);\n",
              "      border-top-color: var(--fill-color);\n",
              "    }\n",
              "    60% {\n",
              "      border-color: transparent;\n",
              "      border-right-color: var(--fill-color);\n",
              "    }\n",
              "    80% {\n",
              "      border-color: transparent;\n",
              "      border-right-color: var(--fill-color);\n",
              "      border-bottom-color: var(--fill-color);\n",
              "    }\n",
              "    90% {\n",
              "      border-color: transparent;\n",
              "      border-bottom-color: var(--fill-color);\n",
              "    }\n",
              "  }\n",
              "</style>\n",
              "\n",
              "  <script>\n",
              "    async function quickchart(key) {\n",
              "      const quickchartButtonEl =\n",
              "        document.querySelector('#' + key + ' button');\n",
              "      quickchartButtonEl.disabled = true;  // To prevent multiple clicks.\n",
              "      quickchartButtonEl.classList.add('colab-df-spinner');\n",
              "      try {\n",
              "        const charts = await google.colab.kernel.invokeFunction(\n",
              "            'suggestCharts', [key], {});\n",
              "      } catch (error) {\n",
              "        console.error('Error during call to suggestCharts:', error);\n",
              "      }\n",
              "      quickchartButtonEl.classList.remove('colab-df-spinner');\n",
              "      quickchartButtonEl.classList.add('colab-df-quickchart-complete');\n",
              "    }\n",
              "    (() => {\n",
              "      let quickchartButtonEl =\n",
              "        document.querySelector('#df-922e7bd2-9413-4359-9141-9235383b5311 button');\n",
              "      quickchartButtonEl.style.display =\n",
              "        google.colab.kernel.accessAllowed ? 'block' : 'none';\n",
              "    })();\n",
              "  </script>\n",
              "</div>\n",
              "    </div>\n",
              "  </div>\n"
            ]
          },
          "metadata": {},
          "execution_count": 29
        }
      ]
    },
    {
      "cell_type": "markdown",
      "source": [
        "# Model Building"
      ],
      "metadata": {
        "id": "CHXemxW9KRKU"
      }
    },
    {
      "cell_type": "code",
      "source": [
        "from sklearn.model_selection import train_test_split\n",
        "train,test=train_test_split(data,test_size=0.2,random_state=42)"
      ],
      "metadata": {
        "id": "T6Bsa1X_KM6K"
      },
      "execution_count": 30,
      "outputs": []
    },
    {
      "cell_type": "code",
      "source": [
        "train.size"
      ],
      "metadata": {
        "colab": {
          "base_uri": "https://localhost:8080/"
        },
        "id": "XMFv59bLLGEg",
        "outputId": "1d913e37-16b1-41de-df9b-e04f8677087f"
      },
      "execution_count": 31,
      "outputs": [
        {
          "output_type": "execute_result",
          "data": {
            "text/plain": [
              "22716"
            ]
          },
          "metadata": {},
          "execution_count": 31
        }
      ]
    },
    {
      "cell_type": "code",
      "source": [
        "test.size"
      ],
      "metadata": {
        "colab": {
          "base_uri": "https://localhost:8080/"
        },
        "id": "MYWiV5GZLJpM",
        "outputId": "c66a1ed9-675a-47f0-aefe-fa9135728d20"
      },
      "execution_count": 32,
      "outputs": [
        {
          "output_type": "execute_result",
          "data": {
            "text/plain": [
              "5688"
            ]
          },
          "metadata": {},
          "execution_count": 32
        }
      ]
    },
    {
      "cell_type": "code",
      "source": [
        "data=train.drop(\"Sale Price\",axis=1)\n",
        "\n",
        "target=train[\"Sale Price\"].copy()"
      ],
      "metadata": {
        "id": "ZI_plSI_LLyR"
      },
      "execution_count": 33,
      "outputs": []
    },
    {
      "cell_type": "code",
      "source": [
        "from sklearn.pipeline import make_pipeline\n",
        "from sklearn.impute import SimpleImputer\n",
        "import numpy as np\n",
        "from sklearn.preprocessing import StandardScaler\n",
        "\n",
        "data_num=data.select_dtypes(include=[np.number])\n",
        "num_pipeline=make_pipeline(SimpleImputer(strategy=\"median\"),StandardScaler())\n",
        "data_num_prepared=num_pipeline.fit_transform(data_num)\n",
        "\n",
        "from sklearn.preprocessing import OneHotEncoder\n",
        "\n",
        "cat_attribute=make_pipeline(SimpleImputer(strategy=\"most_frequent\"),OneHotEncoder(handle_unknown=\"ignore\"))\n",
        "\n",
        "from sklearn.compose import make_column_transformer,make_column_selector\n",
        "\n",
        "preprocessing=make_column_transformer((num_pipeline,make_column_selector(dtype_include=np.number)),(cat_attribute,make_column_selector(dtype_include=object)))\n",
        "\n",
        "data_prepared=preprocessing.fit_transform(data)"
      ],
      "metadata": {
        "id": "s93MyQSvLdUm"
      },
      "execution_count": 34,
      "outputs": []
    },
    {
      "cell_type": "code",
      "source": [
        "\n",
        "from sklearn.linear_model import LinearRegression\n",
        "lin_reg=make_pipeline(preprocessing,LinearRegression())\n",
        "lin_reg.fit(data,target)"
      ],
      "metadata": {
        "colab": {
          "base_uri": "https://localhost:8080/",
          "height": 224
        },
        "id": "M6WJLIvKLwJT",
        "outputId": "1fb7adbb-9b16-4357-8ec2-2c767bebd5dd"
      },
      "execution_count": 35,
      "outputs": [
        {
          "output_type": "execute_result",
          "data": {
            "text/plain": [
              "Pipeline(steps=[('columntransformer',\n",
              "                 ColumnTransformer(transformers=[('pipeline-1',\n",
              "                                                  Pipeline(steps=[('simpleimputer',\n",
              "                                                                   SimpleImputer(strategy='median')),\n",
              "                                                                  ('standardscaler',\n",
              "                                                                   StandardScaler())]),\n",
              "                                                  <sklearn.compose._column_transformer.make_column_selector object at 0x7d13e4be9750>),\n",
              "                                                 ('pipeline-2',\n",
              "                                                  Pipeline(steps=[('simpleimputer',\n",
              "                                                                   SimpleImputer(strategy='most_frequent')),\n",
              "                                                                  ('onehotencoder',\n",
              "                                                                   OneHotEncoder(handle_unknown='ignore'))]),\n",
              "                                                  <sklearn.compose._column_transformer.make_column_selector object at 0x7d13e47d6770>)])),\n",
              "                ('linearregression', LinearRegression())])"
            ],
            "text/html": [
              "<style>#sk-container-id-1 {color: black;background-color: white;}#sk-container-id-1 pre{padding: 0;}#sk-container-id-1 div.sk-toggleable {background-color: white;}#sk-container-id-1 label.sk-toggleable__label {cursor: pointer;display: block;width: 100%;margin-bottom: 0;padding: 0.3em;box-sizing: border-box;text-align: center;}#sk-container-id-1 label.sk-toggleable__label-arrow:before {content: \"▸\";float: left;margin-right: 0.25em;color: #696969;}#sk-container-id-1 label.sk-toggleable__label-arrow:hover:before {color: black;}#sk-container-id-1 div.sk-estimator:hover label.sk-toggleable__label-arrow:before {color: black;}#sk-container-id-1 div.sk-toggleable__content {max-height: 0;max-width: 0;overflow: hidden;text-align: left;background-color: #f0f8ff;}#sk-container-id-1 div.sk-toggleable__content pre {margin: 0.2em;color: black;border-radius: 0.25em;background-color: #f0f8ff;}#sk-container-id-1 input.sk-toggleable__control:checked~div.sk-toggleable__content {max-height: 200px;max-width: 100%;overflow: auto;}#sk-container-id-1 input.sk-toggleable__control:checked~label.sk-toggleable__label-arrow:before {content: \"▾\";}#sk-container-id-1 div.sk-estimator input.sk-toggleable__control:checked~label.sk-toggleable__label {background-color: #d4ebff;}#sk-container-id-1 div.sk-label input.sk-toggleable__control:checked~label.sk-toggleable__label {background-color: #d4ebff;}#sk-container-id-1 input.sk-hidden--visually {border: 0;clip: rect(1px 1px 1px 1px);clip: rect(1px, 1px, 1px, 1px);height: 1px;margin: -1px;overflow: hidden;padding: 0;position: absolute;width: 1px;}#sk-container-id-1 div.sk-estimator {font-family: monospace;background-color: #f0f8ff;border: 1px dotted black;border-radius: 0.25em;box-sizing: border-box;margin-bottom: 0.5em;}#sk-container-id-1 div.sk-estimator:hover {background-color: #d4ebff;}#sk-container-id-1 div.sk-parallel-item::after {content: \"\";width: 100%;border-bottom: 1px solid gray;flex-grow: 1;}#sk-container-id-1 div.sk-label:hover label.sk-toggleable__label {background-color: #d4ebff;}#sk-container-id-1 div.sk-serial::before {content: \"\";position: absolute;border-left: 1px solid gray;box-sizing: border-box;top: 0;bottom: 0;left: 50%;z-index: 0;}#sk-container-id-1 div.sk-serial {display: flex;flex-direction: column;align-items: center;background-color: white;padding-right: 0.2em;padding-left: 0.2em;position: relative;}#sk-container-id-1 div.sk-item {position: relative;z-index: 1;}#sk-container-id-1 div.sk-parallel {display: flex;align-items: stretch;justify-content: center;background-color: white;position: relative;}#sk-container-id-1 div.sk-item::before, #sk-container-id-1 div.sk-parallel-item::before {content: \"\";position: absolute;border-left: 1px solid gray;box-sizing: border-box;top: 0;bottom: 0;left: 50%;z-index: -1;}#sk-container-id-1 div.sk-parallel-item {display: flex;flex-direction: column;z-index: 1;position: relative;background-color: white;}#sk-container-id-1 div.sk-parallel-item:first-child::after {align-self: flex-end;width: 50%;}#sk-container-id-1 div.sk-parallel-item:last-child::after {align-self: flex-start;width: 50%;}#sk-container-id-1 div.sk-parallel-item:only-child::after {width: 0;}#sk-container-id-1 div.sk-dashed-wrapped {border: 1px dashed gray;margin: 0 0.4em 0.5em 0.4em;box-sizing: border-box;padding-bottom: 0.4em;background-color: white;}#sk-container-id-1 div.sk-label label {font-family: monospace;font-weight: bold;display: inline-block;line-height: 1.2em;}#sk-container-id-1 div.sk-label-container {text-align: center;}#sk-container-id-1 div.sk-container {/* jupyter's `normalize.less` sets `[hidden] { display: none; }` but bootstrap.min.css set `[hidden] { display: none !important; }` so we also need the `!important` here to be able to override the default hidden behavior on the sphinx rendered scikit-learn.org. See: https://github.com/scikit-learn/scikit-learn/issues/21755 */display: inline-block !important;position: relative;}#sk-container-id-1 div.sk-text-repr-fallback {display: none;}</style><div id=\"sk-container-id-1\" class=\"sk-top-container\"><div class=\"sk-text-repr-fallback\"><pre>Pipeline(steps=[(&#x27;columntransformer&#x27;,\n",
              "                 ColumnTransformer(transformers=[(&#x27;pipeline-1&#x27;,\n",
              "                                                  Pipeline(steps=[(&#x27;simpleimputer&#x27;,\n",
              "                                                                   SimpleImputer(strategy=&#x27;median&#x27;)),\n",
              "                                                                  (&#x27;standardscaler&#x27;,\n",
              "                                                                   StandardScaler())]),\n",
              "                                                  &lt;sklearn.compose._column_transformer.make_column_selector object at 0x7d13e4be9750&gt;),\n",
              "                                                 (&#x27;pipeline-2&#x27;,\n",
              "                                                  Pipeline(steps=[(&#x27;simpleimputer&#x27;,\n",
              "                                                                   SimpleImputer(strategy=&#x27;most_frequent&#x27;)),\n",
              "                                                                  (&#x27;onehotencoder&#x27;,\n",
              "                                                                   OneHotEncoder(handle_unknown=&#x27;ignore&#x27;))]),\n",
              "                                                  &lt;sklearn.compose._column_transformer.make_column_selector object at 0x7d13e47d6770&gt;)])),\n",
              "                (&#x27;linearregression&#x27;, LinearRegression())])</pre><b>In a Jupyter environment, please rerun this cell to show the HTML representation or trust the notebook. <br />On GitHub, the HTML representation is unable to render, please try loading this page with nbviewer.org.</b></div><div class=\"sk-container\" hidden><div class=\"sk-item sk-dashed-wrapped\"><div class=\"sk-label-container\"><div class=\"sk-label sk-toggleable\"><input class=\"sk-toggleable__control sk-hidden--visually\" id=\"sk-estimator-id-1\" type=\"checkbox\" ><label for=\"sk-estimator-id-1\" class=\"sk-toggleable__label sk-toggleable__label-arrow\">Pipeline</label><div class=\"sk-toggleable__content\"><pre>Pipeline(steps=[(&#x27;columntransformer&#x27;,\n",
              "                 ColumnTransformer(transformers=[(&#x27;pipeline-1&#x27;,\n",
              "                                                  Pipeline(steps=[(&#x27;simpleimputer&#x27;,\n",
              "                                                                   SimpleImputer(strategy=&#x27;median&#x27;)),\n",
              "                                                                  (&#x27;standardscaler&#x27;,\n",
              "                                                                   StandardScaler())]),\n",
              "                                                  &lt;sklearn.compose._column_transformer.make_column_selector object at 0x7d13e4be9750&gt;),\n",
              "                                                 (&#x27;pipeline-2&#x27;,\n",
              "                                                  Pipeline(steps=[(&#x27;simpleimputer&#x27;,\n",
              "                                                                   SimpleImputer(strategy=&#x27;most_frequent&#x27;)),\n",
              "                                                                  (&#x27;onehotencoder&#x27;,\n",
              "                                                                   OneHotEncoder(handle_unknown=&#x27;ignore&#x27;))]),\n",
              "                                                  &lt;sklearn.compose._column_transformer.make_column_selector object at 0x7d13e47d6770&gt;)])),\n",
              "                (&#x27;linearregression&#x27;, LinearRegression())])</pre></div></div></div><div class=\"sk-serial\"><div class=\"sk-item sk-dashed-wrapped\"><div class=\"sk-label-container\"><div class=\"sk-label sk-toggleable\"><input class=\"sk-toggleable__control sk-hidden--visually\" id=\"sk-estimator-id-2\" type=\"checkbox\" ><label for=\"sk-estimator-id-2\" class=\"sk-toggleable__label sk-toggleable__label-arrow\">columntransformer: ColumnTransformer</label><div class=\"sk-toggleable__content\"><pre>ColumnTransformer(transformers=[(&#x27;pipeline-1&#x27;,\n",
              "                                 Pipeline(steps=[(&#x27;simpleimputer&#x27;,\n",
              "                                                  SimpleImputer(strategy=&#x27;median&#x27;)),\n",
              "                                                 (&#x27;standardscaler&#x27;,\n",
              "                                                  StandardScaler())]),\n",
              "                                 &lt;sklearn.compose._column_transformer.make_column_selector object at 0x7d13e4be9750&gt;),\n",
              "                                (&#x27;pipeline-2&#x27;,\n",
              "                                 Pipeline(steps=[(&#x27;simpleimputer&#x27;,\n",
              "                                                  SimpleImputer(strategy=&#x27;most_frequent&#x27;)),\n",
              "                                                 (&#x27;onehotencoder&#x27;,\n",
              "                                                  OneHotEncoder(handle_unknown=&#x27;ignore&#x27;))]),\n",
              "                                 &lt;sklearn.compose._column_transformer.make_column_selector object at 0x7d13e47d6770&gt;)])</pre></div></div></div><div class=\"sk-parallel\"><div class=\"sk-parallel-item\"><div class=\"sk-item\"><div class=\"sk-label-container\"><div class=\"sk-label sk-toggleable\"><input class=\"sk-toggleable__control sk-hidden--visually\" id=\"sk-estimator-id-3\" type=\"checkbox\" ><label for=\"sk-estimator-id-3\" class=\"sk-toggleable__label sk-toggleable__label-arrow\">pipeline-1</label><div class=\"sk-toggleable__content\"><pre>&lt;sklearn.compose._column_transformer.make_column_selector object at 0x7d13e4be9750&gt;</pre></div></div></div><div class=\"sk-serial\"><div class=\"sk-item\"><div class=\"sk-serial\"><div class=\"sk-item\"><div class=\"sk-estimator sk-toggleable\"><input class=\"sk-toggleable__control sk-hidden--visually\" id=\"sk-estimator-id-4\" type=\"checkbox\" ><label for=\"sk-estimator-id-4\" class=\"sk-toggleable__label sk-toggleable__label-arrow\">SimpleImputer</label><div class=\"sk-toggleable__content\"><pre>SimpleImputer(strategy=&#x27;median&#x27;)</pre></div></div></div><div class=\"sk-item\"><div class=\"sk-estimator sk-toggleable\"><input class=\"sk-toggleable__control sk-hidden--visually\" id=\"sk-estimator-id-5\" type=\"checkbox\" ><label for=\"sk-estimator-id-5\" class=\"sk-toggleable__label sk-toggleable__label-arrow\">StandardScaler</label><div class=\"sk-toggleable__content\"><pre>StandardScaler()</pre></div></div></div></div></div></div></div></div><div class=\"sk-parallel-item\"><div class=\"sk-item\"><div class=\"sk-label-container\"><div class=\"sk-label sk-toggleable\"><input class=\"sk-toggleable__control sk-hidden--visually\" id=\"sk-estimator-id-6\" type=\"checkbox\" ><label for=\"sk-estimator-id-6\" class=\"sk-toggleable__label sk-toggleable__label-arrow\">pipeline-2</label><div class=\"sk-toggleable__content\"><pre>&lt;sklearn.compose._column_transformer.make_column_selector object at 0x7d13e47d6770&gt;</pre></div></div></div><div class=\"sk-serial\"><div class=\"sk-item\"><div class=\"sk-serial\"><div class=\"sk-item\"><div class=\"sk-estimator sk-toggleable\"><input class=\"sk-toggleable__control sk-hidden--visually\" id=\"sk-estimator-id-7\" type=\"checkbox\" ><label for=\"sk-estimator-id-7\" class=\"sk-toggleable__label sk-toggleable__label-arrow\">SimpleImputer</label><div class=\"sk-toggleable__content\"><pre>SimpleImputer(strategy=&#x27;most_frequent&#x27;)</pre></div></div></div><div class=\"sk-item\"><div class=\"sk-estimator sk-toggleable\"><input class=\"sk-toggleable__control sk-hidden--visually\" id=\"sk-estimator-id-8\" type=\"checkbox\" ><label for=\"sk-estimator-id-8\" class=\"sk-toggleable__label sk-toggleable__label-arrow\">OneHotEncoder</label><div class=\"sk-toggleable__content\"><pre>OneHotEncoder(handle_unknown=&#x27;ignore&#x27;)</pre></div></div></div></div></div></div></div></div></div></div><div class=\"sk-item\"><div class=\"sk-estimator sk-toggleable\"><input class=\"sk-toggleable__control sk-hidden--visually\" id=\"sk-estimator-id-9\" type=\"checkbox\" ><label for=\"sk-estimator-id-9\" class=\"sk-toggleable__label sk-toggleable__label-arrow\">LinearRegression</label><div class=\"sk-toggleable__content\"><pre>LinearRegression()</pre></div></div></div></div></div></div></div>"
            ]
          },
          "metadata": {},
          "execution_count": 35
        }
      ]
    },
    {
      "cell_type": "code",
      "source": [
        "\n",
        "housing_predictions=lin_reg.predict(data)\n",
        "housing_predictions[:5].round(-2)"
      ],
      "metadata": {
        "colab": {
          "base_uri": "https://localhost:8080/"
        },
        "id": "71a84gPrNNVe",
        "outputId": "3da9031b-7dec-4acc-9c78-c8221f277658"
      },
      "execution_count": 36,
      "outputs": [
        {
          "output_type": "execute_result",
          "data": {
            "text/plain": [
              "array([ 3500300.,    75200., 20500000., 17250000.,  7700000.])"
            ]
          },
          "metadata": {},
          "execution_count": 36
        }
      ]
    },
    {
      "cell_type": "code",
      "source": [
        "from sklearn.metrics import mean_squared_error\n",
        "lin_rmse=mean_squared_error(target,housing_predictions,squared=False)\n",
        "lin_rmse\n",
        ""
      ],
      "metadata": {
        "colab": {
          "base_uri": "https://localhost:8080/"
        },
        "id": "WnU0c28BNThs",
        "outputId": "7fa48c02-0784-4a11-e181-4fa57a911464"
      },
      "execution_count": 37,
      "outputs": [
        {
          "output_type": "execute_result",
          "data": {
            "text/plain": [
              "4502334.222779687"
            ]
          },
          "metadata": {},
          "execution_count": 37
        }
      ]
    },
    {
      "cell_type": "code",
      "source": [
        "\n",
        "from sklearn.model_selection import cross_val_score\n",
        "lin=-cross_val_score(lin_reg,data,target,scoring=\"neg_root_mean_squared_error\",cv=10)\n",
        "pd.Series(lin).describe()"
      ],
      "metadata": {
        "colab": {
          "base_uri": "https://localhost:8080/"
        },
        "id": "QBoI503CNYyO",
        "outputId": "9f6891db-67fd-4a62-d34a-6431c5036415"
      },
      "execution_count": 38,
      "outputs": [
        {
          "output_type": "execute_result",
          "data": {
            "text/plain": [
              "count    1.000000e+01\n",
              "mean     4.734644e+07\n",
              "std      2.985778e+07\n",
              "min      2.285768e+07\n",
              "25%      2.925426e+07\n",
              "50%      3.476045e+07\n",
              "75%      6.000705e+07\n",
              "max      1.195395e+08\n",
              "dtype: float64"
            ]
          },
          "metadata": {},
          "execution_count": 38
        }
      ]
    },
    {
      "cell_type": "code",
      "source": [
        "\n",
        "x_test=test.drop(\"Sale Price\",axis=1)\n",
        "y_test=test[\"Sale Price\"].copy()\n",
        "\n",
        "clas=make_pipeline(preprocessing, LinearRegression())\n",
        "clas.fit(data,target)\n",
        "final_predictions=clas.predict(x_test)"
      ],
      "metadata": {
        "id": "hhjuS37IOs6n"
      },
      "execution_count": 39,
      "outputs": []
    },
    {
      "cell_type": "code",
      "source": [
        "from sklearn.metrics import mean_squared_error,r2_score\n",
        "mse = mean_squared_error(y_test, final_predictions)\n",
        "mse"
      ],
      "metadata": {
        "colab": {
          "base_uri": "https://localhost:8080/"
        },
        "id": "PC7OMTY4O8co",
        "outputId": "cc945cd7-9bd1-4863-e9da-47489d5eeba2"
      },
      "execution_count": 40,
      "outputs": [
        {
          "output_type": "execute_result",
          "data": {
            "text/plain": [
              "3476732387889846.5"
            ]
          },
          "metadata": {},
          "execution_count": 40
        }
      ]
    }
  ]
}